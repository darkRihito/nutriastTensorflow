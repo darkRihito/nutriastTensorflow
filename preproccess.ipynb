{
 "cells": [
  {
   "cell_type": "code",
   "execution_count": null,
   "metadata": {},
   "outputs": [],
   "source": [
    "import pandas as pd\n",
    "\n",
    "# Load the dataset\n",
    "data = pd.read_csv('heart.csv')\n",
    "\n",
    "# Divide the 'age' column by 365\n",
    "data['age'] = (data['age'] / 365).astype(int)\n",
    "data = data.drop(['index', 'id'], axis=1)\n",
    "\n",
    "# Save the modified dataset\n",
    "data.to_csv('heart_modified.csv', index=False)"
   ]
  }
 ],
 "metadata": {
  "kernelspec": {
   "display_name": "Python 3",
   "language": "python",
   "name": "python3"
  },
  "language_info": {
   "codemirror_mode": {
    "name": "ipython",
    "version": 3
   },
   "file_extension": ".py",
   "mimetype": "text/x-python",
   "name": "python",
   "nbconvert_exporter": "python",
   "pygments_lexer": "ipython3",
   "version": "3.9.7"
  },
  "orig_nbformat": 4,
  "vscode": {
   "interpreter": {
    "hash": "1a2f262017fcdd9538881435a62f8448004b8878f3cf3b6ed6df04c8ea8c8fb6"
   }
  }
 },
 "nbformat": 4,
 "nbformat_minor": 2
}
